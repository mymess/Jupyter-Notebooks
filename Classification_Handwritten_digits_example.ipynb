{
  "nbformat": 4,
  "nbformat_minor": 0,
  "metadata": {
    "colab": {
      "name": " Classification - Handwritten digits example.ipynb",
      "version": "0.3.2",
      "provenance": [],
      "collapsed_sections": [],
      "toc_visible": true,
      "include_colab_link": true
    },
    "kernelspec": {
      "name": "python3",
      "display_name": "Python 3"
    },
    "accelerator": "GPU"
  },
  "cells": [
    {
      "cell_type": "markdown",
      "metadata": {
        "id": "view-in-github",
        "colab_type": "text"
      },
      "source": [
        "<a href=\"https://colab.research.google.com/github/mymess/Jupyter-Notebooks/blob/master/Classification_Handwritten_digits_example.ipynb\" target=\"_parent\"><img src=\"https://colab.research.google.com/assets/colab-badge.svg\" alt=\"Open In Colab\"/></a>"
      ]
    },
    {
      "cell_type": "markdown",
      "metadata": {
        "id": "FQJDWDlzeVGj",
        "colab_type": "text"
      },
      "source": [
        "#The MNIST dataset"
      ]
    },
    {
      "cell_type": "markdown",
      "metadata": {
        "id": "gvPiYPCmNWok",
        "colab_type": "text"
      },
      "source": [
        "We will need this misc bloat. TODO: make a library or put it in a class.  "
      ]
    },
    {
      "cell_type": "code",
      "metadata": {
        "id": "Bx03Xr39dMLI",
        "colab_type": "code",
        "colab": {}
      },
      "source": [
        "# To support both python 2 and python 3\n",
        "from __future__ import division, print_function, unicode_literals\n",
        "\n",
        "# Common imports\n",
        "import numpy as np\n",
        "import os\n",
        "\n",
        "# to make this notebook's output stable across runs\n",
        "np.random.seed(42)\n",
        "\n",
        "# To plot pretty figures\n",
        "%matplotlib inline\n",
        "import matplotlib as mpl\n",
        "import matplotlib.pyplot as plt\n",
        "mpl.rc('axes', labelsize=14)\n",
        "mpl.rc('xtick', labelsize=12)\n",
        "mpl.rc('ytick', labelsize=12)\n",
        "\n",
        "# Where to save the figures\n",
        "PROJECT_ROOT_DIR = \".\"\n",
        "CHAPTER_ID = \"classification\"\n",
        "IMAGES_PATH = os.path.join(PROJECT_ROOT_DIR, \"images\", CHAPTER_ID)\n",
        "\n",
        "def save_fig(fig_id, tight_layout=True):\n",
        "  if not os.path.isdir( IMAGES_PATH ):\n",
        "    os.makedirs( IMAGES_PATH )\n",
        "  path = os.path.join(PROJECT_ROOT_DIR, \"images\", CHAPTER_ID, fig_id + \".png\")\n",
        "  print(\"Saving figure\", fig_id)\n",
        "  if tight_layout:\n",
        "    plt.tight_layout()\n",
        "  plt.savefig(path, format='png', dpi=300)"
      ],
      "execution_count": 0,
      "outputs": []
    },
    {
      "cell_type": "code",
      "metadata": {
        "id": "3s7r5NfRd2mM",
        "colab_type": "code",
        "colab": {}
      },
      "source": [
        "def sort_by_target(mnist):\n",
        "    reorder_train = np.array(sorted([(target, i) for i, target in enumerate(mnist.target[:60000])]))[:, 1]\n",
        "    reorder_test = np.array(sorted([(target, i) for i, target in enumerate(mnist.target[60000:])]))[:, 1]\n",
        "    mnist.data[:60000] = mnist.data[reorder_train]\n",
        "    mnist.target[:60000] = mnist.target[reorder_train]\n",
        "    mnist.data[60000:] = mnist.data[reorder_test + 60000]\n",
        "    mnist.target[60000:] = mnist.target[reorder_test + 60000]"
      ],
      "execution_count": 0,
      "outputs": []
    },
    {
      "cell_type": "markdown",
      "metadata": {
        "id": "AyqoISRPG5bx",
        "colab_type": "text"
      },
      "source": [
        "##Download the MNIST dataset and take an overview of it "
      ]
    },
    {
      "cell_type": "markdown",
      "metadata": {
        "id": "BJiX6xfmNo_2",
        "colab_type": "text"
      },
      "source": [
        "The MNIST dataset is a set of 70,000 small images of digits\n",
        "handwritten by high school students and employees of the US Census Bureau. Let's download it using Scikit Learn. "
      ]
    },
    {
      "cell_type": "code",
      "metadata": {
        "id": "TzFfGS50CT8_",
        "colab_type": "code",
        "colab": {}
      },
      "source": [
        "try:\n",
        "    from sklearn.datasets import fetch_openml\n",
        "    mnist = fetch_openml('mnist_784', version=1, cache=True)\n",
        "    mnist.target = mnist.target.astype(np.int8) # fetch_openml() returns targets as strings\n",
        "    sort_by_target(mnist) # fetch_openml() returns an unsorted dataset\n",
        "except ImportError:\n",
        "    from sklearn.datasets import fetch_mldata\n",
        "    mnist = fetch_mldata('MNIST original')\n"
      ],
      "execution_count": 0,
      "outputs": []
    },
    {
      "cell_type": "markdown",
      "metadata": {
        "id": "JQCA-3VgOgjB",
        "colab_type": "text"
      },
      "source": [
        "Now, we will store the data in a matrix and the target (we are doing supervised learning) in a vector:"
      ]
    },
    {
      "cell_type": "code",
      "metadata": {
        "id": "b_sXhmX1Ce8-",
        "colab_type": "code",
        "outputId": "26c5d8f4-bbf3-47ae-93eb-b02716444725",
        "colab": {
          "base_uri": "https://localhost:8080/",
          "height": 34
        }
      },
      "source": [
        "X, y = mnist[\"data\"], mnist[\"target\"]\n",
        "X.shape"
      ],
      "execution_count": 8,
      "outputs": [
        {
          "output_type": "execute_result",
          "data": {
            "text/plain": [
              "(70000, 784)"
            ]
          },
          "metadata": {
            "tags": []
          },
          "execution_count": 8
        }
      ]
    },
    {
      "cell_type": "markdown",
      "metadata": {
        "id": "WJjs38vGMgdG",
        "colab_type": "text"
      },
      "source": [
        "Datasets loaded using Scikit come with handful DESCR key that describes the dataset. Let's take a quick look at it:"
      ]
    },
    {
      "cell_type": "code",
      "metadata": {
        "id": "Hkqar4QBLoI2",
        "colab_type": "code",
        "outputId": "5515a37d-c53a-40c6-be81-01940c4f43e3",
        "colab": {
          "base_uri": "https://localhost:8080/",
          "height": 255
        }
      },
      "source": [
        "desc = mnist[\"DESCR\"]\n",
        "print (desc)"
      ],
      "execution_count": 9,
      "outputs": [
        {
          "output_type": "stream",
          "text": [
            "**Author**: Yann LeCun, Corinna Cortes, Christopher J.C. Burges  \n",
            "**Source**: [MNIST Website](http://yann.lecun.com/exdb/mnist/) - Date unknown  \n",
            "**Please cite**:  \n",
            "\n",
            "The MNIST database of handwritten digits with 784 features, raw data available at: http://yann.lecun.com/exdb/mnist/. It can be split in a training set of the first 60,000 examples, and a test set of 10,000 examples  \n",
            "\n",
            "It is a subset of a larger set available from NIST. The digits have been size-normalized and centered in a fixed-size image. It is a good database for people who want to try learning techniques and pattern recognition methods on real-world data while spending minimal efforts on preprocessing and formatting. The original black and white (bilevel) images from NIST were size normalized to fit in a 20x20 pixel box while preserving their aspect ratio. The resulting images contain grey levels as a result of the anti-aliasing technique used by the normalization algorithm. the images were centered in a 28x28 image by computing the center of mass of the pixels, and translating the image so as to position this point at the center of the 28x28 field.  \n",
            "\n",
            "With some classification methods (particularly template-based methods, such as SVM and K-nearest neighbors), the error rate improves when the digits are centered by bounding box rather than center of mass. If you do this kind of pre-processing, you should report it in your publications. The MNIST database was constructed from NIST's NIST originally designated SD-3 as their training set and SD-1 as their test set. However, SD-3 is much cleaner and easier to recognize than SD-1. The reason for this can be found on the fact that SD-3 was collected among Census Bureau employees, while SD-1 was collected among high-school students. Drawing sensible conclusions from learning experiments requires that the result be independent of the choice of training set and test among the complete set of samples. Therefore it was necessary to build a new database by mixing NIST's datasets.  \n",
            "\n",
            "The MNIST training set is composed of 30,000 patterns from SD-3 and 30,000 patterns from SD-1. Our test set was composed of 5,000 patterns from SD-3 and 5,000 patterns from SD-1. The 60,000 pattern training set contained examples from approximately 250 writers. We made sure that the sets of writers of the training set and test set were disjoint. SD-1 contains 58,527 digit images written by 500 different writers. In contrast to SD-3, where blocks of data from each writer appeared in sequence, the data in SD-1 is scrambled. Writer identities for SD-1 is available and we used this information to unscramble the writers. We then split SD-1 in two: characters written by the first 250 writers went into our new training set. The remaining 250 writers were placed in our test set. Thus we had two sets with nearly 30,000 examples each. The new training set was completed with enough examples from SD-3, starting at pattern # 0, to make a full set of 60,000 training patterns. Similarly, the new test set was completed with SD-3 examples starting at pattern # 35,000 to make a full set with 60,000 test patterns. Only a subset of 10,000 test images (5,000 from SD-1 and 5,000 from SD-3) is available on this site. The full 60,000 sample training set is available.\n",
            "\n",
            "Downloaded from openml.org.\n"
          ],
          "name": "stdout"
        }
      ]
    },
    {
      "cell_type": "markdown",
      "metadata": {
        "id": "phhoXihgNS23",
        "colab_type": "text"
      },
      "source": [
        "Let's see how a random number looks like:"
      ]
    },
    {
      "cell_type": "code",
      "metadata": {
        "id": "kq0SdmirCtQJ",
        "colab_type": "code",
        "outputId": "ad8357ad-97f8-4846-ef5a-d383d7db3950",
        "colab": {
          "base_uri": "https://localhost:8080/",
          "height": 314
        }
      },
      "source": [
        "five_number_id = 36000 \n",
        "five_digit = X[ five_number_id ]\n",
        "five_digit_image = five_digit.reshape(28, 28)\n",
        "plt.imshow(five_digit_image, cmap = mpl.cm.binary,\n",
        "           interpolation=\"nearest\")\n",
        "plt.axis(\"off\")\n",
        "\n",
        "save_fig(\"some_digit_plot\")\n",
        "plt.show()"
      ],
      "execution_count": 10,
      "outputs": [
        {
          "output_type": "stream",
          "text": [
            "Saving figure some_digit_plot\n"
          ],
          "name": "stdout"
        },
        {
          "output_type": "display_data",
          "data": {
            "image/png": "[encoded data removed]",
            "text/plain": [
              "<Figure size 432x288 with 1 Axes>"
            ]
          },
          "metadata": {
            "tags": []
          }
        }
      ]
    },
    {
      "cell_type": "markdown",
      "metadata": {
        "id": "qJ81QDuzOTSQ",
        "colab_type": "text"
      },
      "source": [
        "It looks like a five. Let's check it to be 100% sure:"
      ]
    },
    {
      "cell_type": "code",
      "metadata": {
        "id": "_gNrxzUAPAOv",
        "colab_type": "code",
        "outputId": "f555a60c-57ca-450e-d748-90e98bb3eea3",
        "colab": {
          "base_uri": "https://localhost:8080/",
          "height": 34
        }
      },
      "source": [
        "print (y[five_number_id])\n"
      ],
      "execution_count": 11,
      "outputs": [
        {
          "output_type": "stream",
          "text": [
            "5\n"
          ],
          "name": "stdout"
        }
      ]
    },
    {
      "cell_type": "markdown",
      "metadata": {
        "id": "C72sVroMTIZ4",
        "colab_type": "text"
      },
      "source": [
        "##Create train set and test set"
      ]
    },
    {
      "cell_type": "markdown",
      "metadata": {
        "id": "BnWpCDdLPcrR",
        "colab_type": "text"
      },
      "source": [
        "The first 60,000 digits will be our train set, the rest (10,000) will be our test set. We will store the train set and test set in the `X_train` and `X_test` matrix respectively, and the target values of the train set and test set in the `y_train` and `y_test` vectors respectively."
      ]
    },
    {
      "cell_type": "code",
      "metadata": {
        "id": "P7SxdX1dQAjc",
        "colab_type": "code",
        "colab": {}
      },
      "source": [
        "X_train, X_test, y_train, y_test = X[:60000], X[60000:], y[:60000], y[60000:]"
      ],
      "execution_count": 0,
      "outputs": []
    },
    {
      "cell_type": "markdown",
      "metadata": {
        "id": "an-8sPZjTGTu",
        "colab_type": "text"
      },
      "source": [
        "We also need to shuffle the train set to ensure that all cross-validation folds will be similar. Moreover, some learning algorithms are sensitive to the\n",
        "order of the training instances, and they perform poorly if they get many similar instances in a row. Shuffling the dataset ensures that this won’t happen:"
      ]
    },
    {
      "cell_type": "code",
      "metadata": {
        "id": "aYX6OyvJUUdQ",
        "colab_type": "code",
        "colab": {}
      },
      "source": [
        "import numpy as np\n",
        "shuffle_index = np.random.permutation(60000)\n",
        "X_train, y_train = X_train[shuffle_index], y_train[shuffle_index]"
      ],
      "execution_count": 0,
      "outputs": []
    },
    {
      "cell_type": "markdown",
      "metadata": {
        "id": "u5lp7rQdUtgi",
        "colab_type": "text"
      },
      "source": [
        "#Training a binary classifier using a Stochastic Gradient Descent Classifier"
      ]
    },
    {
      "cell_type": "markdown",
      "metadata": {
        "id": "UtyVswPHUzfL",
        "colab_type": "text"
      },
      "source": [
        "Let's create a binary classifier, i. e., a classifier that tells us whether a given image of a digit is a given number or not. For simplification, let's use the number five we used earlier. To do this, we create two boolean vectors that tell us whether the target values are a five or not:"
      ]
    },
    {
      "cell_type": "code",
      "metadata": {
        "id": "qC-HL4arUjM0",
        "colab_type": "code",
        "colab": {}
      },
      "source": [
        "y_train_5 = (y_train == 5) # True for all 5s, False for all other digits.\n",
        "y_test_5 = (y_test == 5)"
      ],
      "execution_count": 0,
      "outputs": []
    },
    {
      "cell_type": "markdown",
      "metadata": {
        "id": "QbDW6yE_Wrh4",
        "colab_type": "text"
      },
      "source": [
        "Now we can train the classifier. We will use the Stochastic Gradient Descent\n",
        "(SGD) classifier, using Scikit-Learn’s `SGDClassifier` class. This classifier has the advantage of being capable of handling very large datasets efficiently. This is in part because SGD deals with training instances independently, one at a time (which also makes SGD well suited for online learning), as we will see later. Let’s create an `SGDClassifier` and train it on the whole training set. We will first pass to the constructor a `random_state` parameter as the `SGDClassifier` relies on randomness during training (hence the name “stochastic”).This is done to get reproducible results. Next we train the model using the `fit` method. We pass the `X_train` matrix with the digits, and the `y_train_5` boolean vector containing the target values (the solution) for the training set."
      ]
    },
    {
      "cell_type": "code",
      "metadata": {
        "id": "3E6fGiFyWqkq",
        "colab_type": "code",
        "outputId": "a0b5ac65-0f27-4027-8d5a-041624c49edc",
        "colab": {
          "base_uri": "https://localhost:8080/",
          "height": 118
        }
      },
      "source": [
        "from sklearn.linear_model import SGDClassifier\n",
        "sgd_clf = SGDClassifier(random_state=42)\n",
        "sgd_clf.fit(X_train, y_train_5)"
      ],
      "execution_count": 15,
      "outputs": [
        {
          "output_type": "execute_result",
          "data": {
            "text/plain": [
              "SGDClassifier(alpha=0.0001, average=False, class_weight=None,\n",
              "              early_stopping=False, epsilon=0.1, eta0=0.0, fit_intercept=True,\n",
              "              l1_ratio=0.15, learning_rate='optimal', loss='hinge',\n",
              "              max_iter=1000, n_iter_no_change=5, n_jobs=None, penalty='l2',\n",
              "              power_t=0.5, random_state=42, shuffle=True, tol=0.001,\n",
              "              validation_fraction=0.1, verbose=0, warm_start=False)"
            ]
          },
          "metadata": {
            "tags": []
          },
          "execution_count": 15
        }
      ]
    },
    {
      "cell_type": "markdown",
      "metadata": {
        "id": "AIjS8pGJYLIH",
        "colab_type": "text"
      },
      "source": [
        "Now that our binay classifier is trained, let's test it:"
      ]
    },
    {
      "cell_type": "code",
      "metadata": {
        "id": "0hoW6jO6YKfb",
        "colab_type": "code",
        "outputId": "939dec3f-82b0-4c45-91c8-4056aeb4ad10",
        "colab": {
          "base_uri": "https://localhost:8080/",
          "height": 34
        }
      },
      "source": [
        "sgd_clf.predict([five_digit])"
      ],
      "execution_count": 16,
      "outputs": [
        {
          "output_type": "execute_result",
          "data": {
            "text/plain": [
              "array([ True])"
            ]
          },
          "metadata": {
            "tags": []
          },
          "execution_count": 16
        }
      ]
    },
    {
      "cell_type": "markdown",
      "metadata": {
        "id": "v2PyHZdwZElS",
        "colab_type": "text"
      },
      "source": [
        "Looks good. Let's play a littlebit and test it with a non-five digit. Let's make it a bit complicated and do try it with the eight digit:"
      ]
    },
    {
      "cell_type": "code",
      "metadata": {
        "id": "0SnGQZa8ZV1-",
        "colab_type": "code",
        "outputId": "cfbc3301-b54e-4ea7-e24a-97f45476b54f",
        "colab": {
          "base_uri": "https://localhost:8080/",
          "height": 269
        }
      },
      "source": [
        "eight_number_id = 50000 \n",
        "eight_digit = X[ eight_number_id ]\n",
        "eight_digit_image = eight_digit.reshape(28, 28)\n",
        "plt.imshow(eight_digit_image, cmap = mpl.cm.binary,\n",
        "           interpolation=\"nearest\")\n",
        "plt.axis(\"off\")\n",
        "\n",
        "plt.show()"
      ],
      "execution_count": 17,
      "outputs": [
        {
          "output_type": "display_data",
          "data": {
            "image/png": "[encoded data removed]",
            "text/plain": [
              "<Figure size 432x288 with 1 Axes>"
            ]
          },
          "metadata": {
            "tags": []
          }
        }
      ]
    },
    {
      "cell_type": "markdown",
      "metadata": {
        "id": "gvviL8htaDDJ",
        "colab_type": "text"
      },
      "source": [
        "Now let's test our binary classifier with this digit:"
      ]
    },
    {
      "cell_type": "code",
      "metadata": {
        "id": "7qvkaNRfaOA-",
        "colab_type": "code",
        "outputId": "2d9780f2-33d8-4916-fcdb-8e750be8cfc8",
        "colab": {
          "base_uri": "https://localhost:8080/",
          "height": 34
        }
      },
      "source": [
        "sgd_clf.predict([eight_digit])"
      ],
      "execution_count": 18,
      "outputs": [
        {
          "output_type": "execute_result",
          "data": {
            "text/plain": [
              "array([False])"
            ]
          },
          "metadata": {
            "tags": []
          },
          "execution_count": 18
        }
      ]
    },
    {
      "cell_type": "markdown",
      "metadata": {
        "id": "AHkT7617aRql",
        "colab_type": "text"
      },
      "source": [
        "It seems that it works. Cool!"
      ]
    },
    {
      "cell_type": "markdown",
      "metadata": {
        "id": "hqfhC4SUaVBv",
        "colab_type": "text"
      },
      "source": [
        "#Evaluating a classifier's performance"
      ]
    },
    {
      "cell_type": "markdown",
      "metadata": {
        "id": "bTcAfheMamow",
        "colab_type": "text"
      },
      "source": [
        "##Measuring performance using Cross-Validation"
      ]
    },
    {
      "cell_type": "markdown",
      "metadata": {
        "id": "2KedgTBohcDy",
        "colab_type": "text"
      },
      "source": [
        "We can use the `cross_val_score()` function to evaluate the `SGDClassifier` model. using K-fold crossvalidation,\n",
        "with three folds. K-fold cross-validation means splitting the training set into\n",
        "K-folds (in this case, three), then making predictions and evaluating them on each fold using a model trained on the remaining folds:"
      ]
    },
    {
      "cell_type": "code",
      "metadata": {
        "id": "v0oBYEUJjjiC",
        "colab_type": "code",
        "outputId": "7c794d36-b534-4080-a37d-f07e76e13faf",
        "colab": {
          "base_uri": "https://localhost:8080/",
          "height": 34
        }
      },
      "source": [
        "from sklearn.model_selection import cross_val_score\n",
        "cross_val_score(sgd_clf, X_train, y_train_5, cv=3, scoring=\"accuracy\")"
      ],
      "execution_count": 19,
      "outputs": [
        {
          "output_type": "execute_result",
          "data": {
            "text/plain": [
              "array([0.9613, 0.9635, 0.9661])"
            ]
          },
          "metadata": {
            "tags": []
          },
          "execution_count": 19
        }
      ]
    },
    {
      "cell_type": "markdown",
      "metadata": {
        "id": "v_An_r5uldqx",
        "colab_type": "text"
      },
      "source": [
        "Wow! Above 96% accuracy seems too good to be true. But now let's implement a simple class inheriting `BaseEstimator` that classifies digits into non-5 digits:"
      ]
    },
    {
      "cell_type": "code",
      "metadata": {
        "id": "RuuJAGIAl8k3",
        "colab_type": "code",
        "colab": {}
      },
      "source": [
        "from sklearn.base import BaseEstimator\n",
        "\n",
        "class Never5Classifier(BaseEstimator):\n",
        "  def fit(self, X, y=None):\n",
        "    pass\n",
        "  def predict(self, X):\n",
        "    return np.zeros((len(X), 1), dtype=bool)"
      ],
      "execution_count": 0,
      "outputs": []
    },
    {
      "cell_type": "markdown",
      "metadata": {
        "id": "XJevWskQmXwG",
        "colab_type": "text"
      },
      "source": [
        "With this class we will be able to check how many non-5 instances are in our folds."
      ]
    },
    {
      "cell_type": "code",
      "metadata": {
        "id": "40kr5-ZsmYY6",
        "colab_type": "code",
        "outputId": "6eee3f24-7428-4246-8dd3-736e95c3dbc6",
        "colab": {
          "base_uri": "https://localhost:8080/",
          "height": 34
        }
      },
      "source": [
        "never_5_clf = Never5Classifier()\n",
        "\n",
        "cross_val_score(never_5_clf, X_train, y_train_5, cv=3, scoring=\"accuracy\")"
      ],
      "execution_count": 21,
      "outputs": [
        {
          "output_type": "execute_result",
          "data": {
            "text/plain": [
              "array([0.909  , 0.90715, 0.9128 ])"
            ]
          },
          "metadata": {
            "tags": []
          },
          "execution_count": 21
        }
      ]
    },
    {
      "cell_type": "markdown",
      "metadata": {
        "id": "6vsEhXNenGxv",
        "colab_type": "text"
      },
      "source": [
        "About 90% seems logical, as only about 10% af all digits are five-digits. \n",
        "\n",
        "This demonstrates why accuracy is generally not the preferred performance measure for classifiers,\n",
        "especially when you are dealing with *skewed datasets* (i.e., when some classes are much more frequent\n",
        "than others)."
      ]
    },
    {
      "cell_type": "markdown",
      "metadata": {
        "id": "XHCbpfo9nj36",
        "colab_type": "text"
      },
      "source": [
        "##Using the Confusion Matrix"
      ]
    },
    {
      "cell_type": "markdown",
      "metadata": {
        "id": "OoKG0Yy1ntEa",
        "colab_type": "text"
      },
      "source": [
        "The\n",
        "general idea is to count the number of times instances of class A are classified as class B. For example, to\n",
        "know the number of times the classifier confused images of 5s with 3s, we would look in the 5th row and\n",
        "3rd column of the confusion matrix.\n",
        "\n",
        "To compute the confusion matrix, we first need to have a set of predictions, so they can be compared to the actual targets. We could make predictions on the test set, but let’s keep it untouched for now\n",
        "(remember that we want to use the test set only at the very end of our project, once our classifier is ready to launch). Instead, we can use the `cross_val_predict()` function:"
      ]
    },
    {
      "cell_type": "code",
      "metadata": {
        "id": "M4qWCjLjpfIp",
        "colab_type": "code",
        "colab": {}
      },
      "source": [
        "from sklearn.model_selection import cross_val_predict\n",
        "\n",
        "y_train_pred = cross_val_predict(sgd_clf, X_train, y_train_5, cv=3)"
      ],
      "execution_count": 0,
      "outputs": []
    },
    {
      "cell_type": "markdown",
      "metadata": {
        "id": "52n8F6mbqBUu",
        "colab_type": "text"
      },
      "source": [
        "Just like the `cross_val_score()` function, `cross_val_predict()` performs K-fold cross-validation,\n",
        "but instead of returning the evaluation scores, it returns the predictions made on each test fold. This means\n",
        "that we can get a clean prediction for each instance in the training set (“clean” meaning that the prediction is\n",
        "made by a model that never saw the data during training).\n",
        "Now we are ready to get the confusion matrix using the `confusion_matrix()` function. We just need to pass it the\n",
        "target classes (`y_train_5`) and the predicted classes (`y_train_pred`):"
      ]
    },
    {
      "cell_type": "code",
      "metadata": {
        "id": "eNCl19h6qXA3",
        "colab_type": "code",
        "outputId": "0e603766-acea-4246-8f60-b5e090f15be8",
        "colab": {
          "base_uri": "https://localhost:8080/",
          "height": 67
        }
      },
      "source": [
        "from sklearn.metrics import confusion_matrix\n",
        "cm = confusion_matrix(y_train_5, y_train_pred)\n",
        "print(\"Confusion matrix = \\n{0}\".format(str(cm)))"
      ],
      "execution_count": 23,
      "outputs": [
        {
          "output_type": "stream",
          "text": [
            "Confusion matrix = \n",
            "[[54122   457]\n",
            " [ 1725  3696]]\n"
          ],
          "name": "stdout"
        }
      ]
    },
    {
      "cell_type": "markdown",
      "metadata": {
        "id": "wTlTOiFjqesl",
        "colab_type": "text"
      },
      "source": [
        "What this means is:\n",
        ">$Confusion Matrix=\n",
        " \\begin{pmatrix}\n",
        "  TN=54122 & FP=457  \\\\\n",
        "  FN=1725 & TP=3696 \n",
        " \\end{pmatrix}$"
      ]
    },
    {
      "cell_type": "markdown",
      "metadata": {
        "id": "LX5M1UtrrqxU",
        "colab_type": "text"
      },
      "source": [
        "where: TN means *True Negatives*, FP means *False Positives*, FN means *False Negatives* and TP means *True Positives*. \n",
        "\n",
        "Each row in a confusion matrix represents an **actual class**, while each column represents a **predicted class**. The first row of this matrix considers non-5 images (the negative class): 54,122 of them were\n",
        "correctly classified as non-5s (they are called true negatives), while the remaining 457 were wrongly\n",
        "classified as 5s (false positives). The second row considers the images of 5s (the positive class): 1,725\n",
        "were wrongly classified as non-5s (false negatives), while the remaining 3,696 were correctly classified\n",
        "as 5s (true positives). A perfect classifier would have only true positives and true negatives, so its\n",
        "confusion matrix would have nonzero values only on its main diagonal (top left to bottom right):"
      ]
    },
    {
      "cell_type": "markdown",
      "metadata": {
        "id": "94GmOJWPLa6x",
        "colab_type": "text"
      },
      "source": [
        "![texto alternativo](https://drive.google.com/uc?id=1FgkNT5EsBYZSDDOPID1ALM2tG0_HvRPp)"
      ]
    },
    {
      "cell_type": "markdown",
      "metadata": {
        "id": "vo_KgLf5tI31",
        "colab_type": "text"
      },
      "source": [
        "One big handicap of the confusion matrix is that all values are absolute ones: the count of true negatives, false positives and so on. The confusion matrix also gives a lot of information, but most times we may prefer a more concise metric. \n",
        "An interesting one to look at is **the accuracy of the positive predictions**; this is called the **precision**, **specifity** or **True Negative Rate** (i.e. \"**especifidad**\" in Spanish) of the\n",
        "classifier. Thus:"
      ]
    },
    {
      "cell_type": "markdown",
      "metadata": {
        "id": "xe3IYk9OwI2y",
        "colab_type": "text"
      },
      "source": [
        ">$ TNR=precision=\\frac{TN}{TN+FP}$"
      ]
    },
    {
      "cell_type": "markdown",
      "metadata": {
        "id": "cSW7Y-iZt3a7",
        "colab_type": "text"
      },
      "source": [
        "Precision is typically used along with another metric named **recall** (\"**sensibilidad**\"), also called\n",
        "**sensitivity or true positive rate (TPR)**: this is the **ratio of positive instances that are correctly detected** by\n",
        "the classifier:\n",
        "\n",
        ">$TPR=recall=\\frac{TP}{TP+FN}$"
      ]
    },
    {
      "cell_type": "code",
      "metadata": {
        "id": "DHlHOi3Zw9vF",
        "colab_type": "code",
        "outputId": "f35d48d2-363e-4eaa-bdeb-870fdf64fc8d",
        "colab": {
          "base_uri": "https://localhost:8080/",
          "height": 50
        }
      },
      "source": [
        "from sklearn.metrics import precision_score, recall_score\n",
        "precision = precision_score(y_train_5, y_train_pred) # == 4344 / (4344 + 1307)\n",
        "recall = recall_score(y_train_5, y_train_pred) # == 4344 / (4344 + 1077)\n",
        "\n",
        "print(\"precision = {:.2f}%\".format(precision *100))\n",
        "print(\"recall = {:.2f}%\".format( recall*100) )\n"
      ],
      "execution_count": 24,
      "outputs": [
        {
          "output_type": "stream",
          "text": [
            "precision = 89.00%\n",
            "recall = 68.18%\n"
          ],
          "name": "stdout"
        }
      ]
    },
    {
      "cell_type": "markdown",
      "metadata": {
        "id": "CPf8q3aLBA7I",
        "colab_type": "text"
      },
      "source": [
        "Now our 5-detector does not look as shiny as it did when we looked at its accuracy. When it claims an\n",
        "image represents a 5, it is correct only 89% of the time. Moreover, it only detects 68% of the 5s.\n",
        "\n",
        "It is often convenient to combine precision and recall into a single metric called the ***F1 score***, in\n",
        "particular if you need a simple way to compare two classifiers. The F1 score is the **harmonic mean of\n",
        "precision and recall**, and is defined as:\n",
        "\n",
        "\n",
        ">$ F score=\\frac{2}{\\frac{1}{precision}+{\\frac{1}{recall}}}$\n",
        "\n",
        "Whereas the regular mean treats all values equally, the harmonic\n",
        "mean gives much more weight to low values. As a result, the classifier will only get a high F1 score if **both** recall and precision are high. \n",
        "\n",
        "The F1 score favors classifiers that have similar precision and recall. This is not always what we want:\n",
        "in some contexts we mostly may need precision, and in other contexts what we really need is recall. For\n",
        "example, if we trained a classifier to detect videos that are safe for kids, we would probably prefer a\n",
        "classifier that rejects many good videos (low recall/sensitivity) but keeps only safe ones (high precision/specifity), rather than\n",
        "a classifier that has a much higher recall but lets a few really bad videos show up in your product (in such\n",
        "cases, you may even want to add a human pipeline to check the classifier’s video selection). On the other\n",
        "hand, suppose we trained a classifier to detect shoplifters on surveillance images: it is probably fine if your\n",
        "classifier has only 30% precision as long as it has 99% recall (sure, the security guards will get a few\n",
        "false alerts, but almost all shoplifters will get caught).\n",
        "\n",
        "Unfortunately, it's impossible have it both ways: increasing precision reduces recall, and vice versa. This is\n",
        "called the **precision/recall tradeoff**."
      ]
    },
    {
      "cell_type": "markdown",
      "metadata": {
        "id": "deiTCa-2GHhA",
        "colab_type": "text"
      },
      "source": [
        "##The Precision/Recall tradeoff"
      ]
    },
    {
      "cell_type": "markdown",
      "metadata": {
        "id": "mOARLoDLGNCJ",
        "colab_type": "text"
      },
      "source": [
        "To understand this tradeoff, let’s look at how the `SGDClassifier` makes its classification decisions. For\n",
        "each instance, it computes a score based on a decision function, and if that score is greater than a\n",
        "threshold, it assigns the instance to the positive class, or else it assigns it to the negative class.\n",
        "shows a few digits positioned from the lowest score on the left to the highest score on the right. Suppose\n",
        "the decision threshold is positioned at the central arrow (between the two 5s): you will find 4 true\n",
        "positives (actual 5s) on the right of that threshold, and one false positive (actually a 6). Therefore, with\n",
        "that threshold, the precision is 80% (4 out of 5). But out of 6 actual 5s, the classifier only detects 4, so the\n",
        "recall is 67% (4 out of 6). Now if you raise the threshold (move it to the arrow on the right), the false\n",
        "positive (the 6) becomes a true negative, thereby increasing precision (up to 100% in this case), but one\n",
        "true positive becomes a false negative, decreasing recall down to 50%. Conversely, lowering the\n",
        "threshold increases recall and reduces precision."
      ]
    },
    {
      "cell_type": "markdown",
      "metadata": {
        "id": "LnFM4wPpJt7y",
        "colab_type": "text"
      },
      "source": [
        "![Precission vs Recall tradeoff and decision threshold](https://drive.google.com/uc?id=1kOXQBt0LRp0qaKe1q8ABELIr4o76He3Y) "
      ]
    },
    {
      "cell_type": "markdown",
      "metadata": {
        "id": "OL2fSAISLndf",
        "colab_type": "text"
      },
      "source": [
        "Scikit-Learn does not let us set the threshold directly, but it does give us access to the decision scores\n",
        "that it uses to make predictions. Instead of calling the classifier’s `predict()` method, you can call its\n",
        "`decision_function()` method, which returns a score for each instance, and then make predictions based\n",
        "on those scores using any threshold you want:"
      ]
    },
    {
      "cell_type": "code",
      "metadata": {
        "id": "aWKjYZ6hLvPX",
        "colab_type": "code",
        "outputId": "6f9efc86-6c7e-48b2-b915-73a323041699",
        "colab": {
          "base_uri": "https://localhost:8080/",
          "height": 50
        }
      },
      "source": [
        "y_score = sgd_clf.decision_function([five_digit])\n",
        "print(y_score)\n",
        "\n",
        "threshold = 0\n",
        "y_five_digit_pred = (y_score > threshold)\n",
        "print(y_five_digit_pred)"
      ],
      "execution_count": 25,
      "outputs": [
        {
          "output_type": "stream",
          "text": [
            "[5220.50278623]\n",
            "[ True]\n"
          ],
          "name": "stdout"
        }
      ]
    },
    {
      "cell_type": "markdown",
      "metadata": {
        "id": "_VDwYmdYM6M5",
        "colab_type": "text"
      },
      "source": [
        "The `SGDClassifier` uses a threshold equal to 0, so the previous code returns the same result as the\n",
        "predict() method (i.e., True). If we raised the threshold, this would change:"
      ]
    },
    {
      "cell_type": "code",
      "metadata": {
        "id": "uZQPkSDsNByq",
        "colab_type": "code",
        "outputId": "daaa999d-90ec-4af0-fa7b-1018bf14dbbb",
        "colab": {
          "base_uri": "https://localhost:8080/",
          "height": 34
        }
      },
      "source": [
        "threshold = 6000\n",
        "y_five_digit_pred = (y_score > threshold)\n",
        "y_five_digit_pred"
      ],
      "execution_count": 26,
      "outputs": [
        {
          "output_type": "execute_result",
          "data": {
            "text/plain": [
              "array([False])"
            ]
          },
          "metadata": {
            "tags": []
          },
          "execution_count": 26
        }
      ]
    },
    {
      "cell_type": "markdown",
      "metadata": {
        "id": "osNAa6W2NPOg",
        "colab_type": "text"
      },
      "source": [
        "This confirms that raising the threshold decreases recall. The image actually represents a 5, and the\n",
        "classifier detects it when the threshold is 0, but it misses it when the threshold is increased to 6,000.\n",
        "So how can we decide which threshold to use? For this we will first need to get the scores of all\n",
        "instances in the training set using the `cross_val_predict()` function again, but this time specifying that\n",
        "you want it to return decision scores instead of predictions:"
      ]
    },
    {
      "cell_type": "code",
      "metadata": {
        "id": "fVrn-m9wNY1H",
        "colab_type": "code",
        "outputId": "3e2a68fb-f333-4e23-ade4-df78bee60be1",
        "colab": {
          "base_uri": "https://localhost:8080/",
          "height": 50
        }
      },
      "source": [
        "y_scores = cross_val_predict(sgd_clf, X_train, y_train_5, cv=3,\n",
        "method=\"decision_function\")\n",
        "y_scores\n"
      ],
      "execution_count": 27,
      "outputs": [
        {
          "output_type": "execute_result",
          "data": {
            "text/plain": [
              "array([ -20459.8132648 , -128135.95428981,  -39453.27540023, ...,\n",
              "        -45296.1297672 ,  -29061.21602769,  -13530.44145905])"
            ]
          },
          "metadata": {
            "tags": []
          },
          "execution_count": 27
        }
      ]
    },
    {
      "cell_type": "markdown",
      "metadata": {
        "id": "9AhTz0NANukG",
        "colab_type": "text"
      },
      "source": [
        "Now with these scores we can compute precision and recall for all possible thresholds using the\n",
        "`precision_recall_curve()` function:"
      ]
    },
    {
      "cell_type": "code",
      "metadata": {
        "id": "LbPT2OynN16e",
        "colab_type": "code",
        "outputId": "2429f3f2-f9f0-4812-ecbd-b45a123a2e46",
        "colab": {
          "base_uri": "https://localhost:8080/",
          "height": 291
        }
      },
      "source": [
        "from sklearn.metrics import precision_recall_curve\n",
        "precisions, recalls, thresholds = precision_recall_curve(y_train_5, y_scores)\n",
        "\n",
        "def plot_precision_recall_vs_threshold(precisions, recalls, thresholds):\n",
        "  plt.plot(thresholds, precisions[:-1], \"b--\", label=\"Precision\")\n",
        "  plt.plot(thresholds, recalls[:-1], \"g-\", label=\"Recall\")\n",
        "  plt.xlabel(\"Threshold\")\n",
        "  plt.legend(loc=\"upper left\")\n",
        "  plt.ylim([0, 1])\n",
        "\n",
        "\n",
        "plot_precision_recall_vs_threshold(precisions, recalls, thresholds)\n",
        "plt.show()"
      ],
      "execution_count": 28,
      "outputs": [
        {
          "output_type": "display_data",
          "data": {
            "image/png": "[encoded data removed]",
            "text/plain": [
              "<Figure size 432x288 with 1 Axes>"
            ]
          },
          "metadata": {
            "tags": []
          }
        }
      ]
    },
    {
      "cell_type": "markdown",
      "metadata": {
        "id": "B3EDkZEMhsIv",
        "colab_type": "text"
      },
      "source": [
        "Now we can simply select the threshold value that gives us the best precision/recall tradeoff for our\n",
        "task. Another way to select a good precision/recall tradeoff is to plot precision directly against recall:"
      ]
    },
    {
      "cell_type": "code",
      "metadata": {
        "id": "kraU5VOPhzih",
        "colab_type": "code",
        "outputId": "6f7b8c5f-8279-414e-cea4-de03c93a0c69",
        "colab": {
          "base_uri": "https://localhost:8080/",
          "height": 290
        }
      },
      "source": [
        "def plot_precision_vs_recall( precisions, recalls ):\n",
        "  plt.plot(recalls, precisions, \"b-\", label=\"Precision_vs_recall\")\n",
        "  plt.ylabel(\"Precision\")\n",
        "  plt.xlabel(\"Recall\")\n",
        "  plt.show()\n",
        "\n",
        "plot_precision_vs_recall( precisions, recalls )"
      ],
      "execution_count": 29,
      "outputs": [
        {
          "output_type": "display_data",
          "data": {
            "image/png": "[encoded data removed]",
            "text/plain": [
              "<Figure size 432x288 with 1 Axes>"
            ]
          },
          "metadata": {
            "tags": []
          }
        }
      ]
    },
    {
      "cell_type": "markdown",
      "metadata": {
        "id": "l-sYMsxujCyK",
        "colab_type": "text"
      },
      "source": [
        "We can see that precision really starts to fall sharply around 80% recall. We will probably want to\n",
        "select a precision/recall tradeoff just before that drop — for example, at around 60% recall. But of\n",
        "course the choice depends on the project.\n",
        "So let’s suppose we decide to aim for a given precision, let's say 90%:"
      ]
    },
    {
      "cell_type": "code",
      "metadata": {
        "id": "QkCg5YI8jSTG",
        "colab_type": "code",
        "colab": {
          "base_uri": "https://localhost:8080/",
          "height": 67
        },
        "outputId": "f0c6e534-b12f-4a54-94a5-05dd78afb2c1"
      },
      "source": [
        "def get_threshold_for_precision(precisions, thresholds, target_precision):\n",
        "  target_threshold = 0\n",
        "  for i in range(len(precisions)-1):\n",
        "    aux  = precisions[i]\n",
        "    aux2 = precisions[i+1]\n",
        "    if aux < target_precision and aux2 > target_precision:\n",
        "      target_threshold = thresholds[i]\n",
        "      \n",
        "      break\n",
        "  return target_threshold\n",
        "\n",
        "target_threshold = get_threshold_for_precision(precisions, thresholds, .9)\n",
        "\n",
        "y_train_pred = (y_scores > target_threshold)\n",
        "\n",
        "print (\"target threshold = \", target_threshold)\n",
        "print(\"Precision = {:.2f}%\".format( precision_score(y_train_5, y_train_pred) *100) )\n",
        "\n",
        "print(\"Recall = {:.2f}%\".format(recall_score(y_train_5, y_train_pred)*100))\n"
      ],
      "execution_count": 30,
      "outputs": [
        {
          "output_type": "stream",
          "text": [
            "target threshold =  265.9526351120646\n",
            "Precision = 90.01%\n",
            "Recall = 66.80%\n"
          ],
          "name": "stdout"
        }
      ]
    },
    {
      "cell_type": "markdown",
      "metadata": {
        "id": "MnBxkN-QoQis",
        "colab_type": "text"
      },
      "source": [
        "Analogously, we may define a function that get's our desired threshold for a given recall:"
      ]
    },
    {
      "cell_type": "code",
      "metadata": {
        "id": "xBR9HNMOoZnY",
        "colab_type": "code",
        "colab": {
          "base_uri": "https://localhost:8080/",
          "height": 67
        },
        "outputId": "fb98ff69-b2ba-4f8f-a8bb-3837ed911f31"
      },
      "source": [
        "def get_threshold_for_recall(recalls, thresholds, target_recall):\n",
        "  target_threshold = 0\n",
        "  for i in range(len(recalls)-1):\n",
        "    aux  = recalls[i]\n",
        "    aux2 = recalls[i+1]\n",
        "    if aux2 < target_recall and aux > target_recall:\n",
        "      target_threshold = thresholds[i+1]      \n",
        "      break\n",
        "  return target_threshold\n",
        "\n",
        "target_threshold = get_threshold_for_recall(recalls, thresholds, .9)\n",
        "\n",
        "y_train_pred = (y_scores > target_threshold)\n",
        "\n",
        "print (\"target threshold = \", target_threshold)\n",
        "\n",
        "print(\"Precision = {:.2f}%\".format( precision_score(y_train_5, y_train_pred) *100) )\n",
        "\n",
        "print(\"Recall = {:.2f}%\".format(recall_score(y_train_5, y_train_pred)*100))\n"
      ],
      "execution_count": 31,
      "outputs": [
        {
          "output_type": "stream",
          "text": [
            "target threshold =  -5782.976627732644\n",
            "Precision = 48.36%\n",
            "Recall = 89.96%\n"
          ],
          "name": "stdout"
        }
      ]
    },
    {
      "cell_type": "markdown",
      "metadata": {
        "id": "9kHc_IR7rN0g",
        "colab_type": "text"
      },
      "source": [
        "##The ROC Curve"
      ]
    },
    {
      "cell_type": "markdown",
      "metadata": {
        "id": "m2otdgM1rYKv",
        "colab_type": "text"
      },
      "source": [
        "The **Receiver Operating Characteristic (ROC) curve** is another common tool used with binary classifiers.\n",
        "It is very similar to the precision/recall curve, but instead of plotting precision versus recall, the ROC\n",
        "curve plots the **true positive rate** (another name for recall) against the **false positive rate**. The **FPR** is the\n",
        "ratio of negative instances that are incorrectly classified as positive. It is equal to one minus the **true\n",
        "negative rate**, which is the ratio of negative instances that are correctly classified as negative. The TNR\n",
        "is also called specificity. Hence the ROC curve plots *sensitivity* (recall) versus *1 – specificity*.\n",
        "To plot the ROC curve, you first need to compute the TPR and FPR for various threshold values, using the\n",
        "`roc_curve()` function:"
      ]
    },
    {
      "cell_type": "code",
      "metadata": {
        "id": "gSfOTEjctMme",
        "colab_type": "code",
        "colab": {}
      },
      "source": [
        "from sklearn.metrics import roc_curve\n",
        "fpr, tpr, thresholds = roc_curve(y_train_5, y_scores)"
      ],
      "execution_count": 0,
      "outputs": []
    },
    {
      "cell_type": "markdown",
      "metadata": {
        "id": "fT1Wln8DtTIh",
        "colab_type": "text"
      },
      "source": [
        "Then you can plot the FPR against the TPR using Matplotlib."
      ]
    },
    {
      "cell_type": "code",
      "metadata": {
        "id": "KmST_WF8tTwO",
        "colab_type": "code",
        "colab": {
          "base_uri": "https://localhost:8080/",
          "height": 291
        },
        "outputId": "d672503d-8554-4144-eadf-7921d835e25b"
      },
      "source": [
        "def plot_roc_curve(fpr, tpr, label=None):\n",
        "  plt.plot(fpr, tpr, linewidth=2, label=label)\n",
        "  plt.plot([0, 1], [0, 1], 'k--')\n",
        "  plt.axis([0, 1, 0, 1])\n",
        "  plt.xlabel('False Positive Rate')\n",
        "  plt.ylabel('True Positive Rate')\n",
        "\n",
        "plot_roc_curve(fpr, tpr)\n",
        "plt.show()"
      ],
      "execution_count": 33,
      "outputs": [
        {
          "output_type": "display_data",
          "data": {
            "image/png": "[encoded data removed]",
            "text/plain": [
              "<Figure size 432x288 with 1 Axes>"
            ]
          },
          "metadata": {
            "tags": []
          }
        }
      ]
    },
    {
      "cell_type": "markdown",
      "metadata": {
        "id": "Oe4GZhxZtkLt",
        "colab_type": "text"
      },
      "source": [
        "Once again there is a tradeoff: the higher the recall (TPR), the more false positives (FPR) the classifier produces. The dotted line represents the ROC curve of a purely random classifier; a good classifier stays\n",
        "as far away from that line as possible (toward the top-left corner).\n",
        "\n",
        "One way to compare classifiers is to measure the area under the curve (AUC). A perfect classifier will\n",
        "have a ROC AUC equal to 1, whereas a purely random classifier will have a ROC AUC equal to 0.5.\n",
        "Scikit-Learn provides a function to compute the ROC AUC:"
      ]
    },
    {
      "cell_type": "code",
      "metadata": {
        "id": "drdFZ9iltzxm",
        "colab_type": "code",
        "colab": {
          "base_uri": "https://localhost:8080/",
          "height": 34
        },
        "outputId": "5b814fdb-6f1a-45d5-bf23-991f28456717"
      },
      "source": [
        "from sklearn.metrics import roc_auc_score\n",
        "roc_auc_score(y_train_5, y_scores)"
      ],
      "execution_count": 34,
      "outputs": [
        {
          "output_type": "execute_result",
          "data": {
            "text/plain": [
              "0.9577210519742373"
            ]
          },
          "metadata": {
            "tags": []
          },
          "execution_count": 34
        }
      ]
    },
    {
      "cell_type": "markdown",
      "metadata": {
        "id": "FYcFEXnZunbI",
        "colab_type": "text"
      },
      "source": [
        "##Summing it all up in one class"
      ]
    },
    {
      "cell_type": "markdown",
      "metadata": {
        "id": "r0JuMjkjuuc-",
        "colab_type": "text"
      },
      "source": [
        "Now we have a ton of sparse code for calculating the confusion matrix and Precision/Recall charts. Let's put it all together in one class:"
      ]
    },
    {
      "cell_type": "code",
      "metadata": {
        "id": "Tl7mUNvNvI_z",
        "colab_type": "code",
        "colab": {}
      },
      "source": [
        "from sklearn.model_selection import cross_val_predict\n",
        "from sklearn.metrics import confusion_matrix\n",
        "from sklearn.metrics import precision_score, recall_score\n",
        "from sklearn.metrics import precision_recall_curve\n",
        "from sklearn.metrics import roc_curve\n",
        "from sklearn.metrics import roc_auc_score\n",
        "from sklearn.ensemble import RandomForestClassifier\n",
        "\n",
        "import matplotlib as mpl\n",
        "import matplotlib.pyplot as plt\n",
        "mpl.rc('axes', labelsize=14)\n",
        "mpl.rc('xtick', labelsize=12)\n",
        "mpl.rc('ytick', labelsize=12)\n",
        "\n",
        "\n",
        "class ClassifierPerformanceMeter(object):\n",
        "  #data, y target values\n",
        "  def __init__(self, classifier, X, y):\n",
        "    self.classifier = classifier\n",
        "    self.X = X\n",
        "    self.y = y\n",
        "    \n",
        "    if isinstance(classifier, RandomForestClassifier):\n",
        "      y_probas_forest = cross_val_predict(self.classifier, self.X, self.y, cv=3,\n",
        "      method=\"predict_proba\")\n",
        "      self.y_scores = y_probas_forest[:, 1] # score = proba of positive class\n",
        "\n",
        "    else:\n",
        "      self.classifier.fit(X, y)\n",
        "      self.y_scores = cross_val_predict(self.classifier, self.X, self.y, cv=3,\n",
        "      method=\"decision_function\")      \n",
        "      \n",
        "    self.precisions, self.recalls, self.thresholds = precision_recall_curve(self.y, self.y_scores)\n",
        "    self.fpr, self.tpr, self.auc_thresholds = roc_curve(self.y, self.y_scores)      \n",
        "    self.roc_auc_score = roc_auc_score(self.y, self.y_scores)    \n",
        "     \n",
        "  def describe(self):\n",
        "    self.y_train_pred = cross_val_predict(self.classifier, self.X, self.y, cv=3)\n",
        "    cm = confusion_matrix(self.y, self.y_train_pred)\n",
        "    print(\"Confusion matrix = \\n{0}\".format(str(cm)))\n",
        "\n",
        "    precision = precision_score(self.y, self.y_train_pred)\n",
        "    recall = recall_score(self.y, self.y_train_pred)\n",
        "    print(\"\\nPrecision = {:.2f}%\".format(precision *100))\n",
        "    print(\"Recall = {:.2f}%\".format( recall*100) )\n",
        "    print(\"\\nAUC = {:.6f}\".format( self.roc_auc_score) )\n",
        "    \n",
        "\n",
        "  def plot_precision_recall_vs_threshold(self):\n",
        "    plt.plot(self.thresholds, self.precisions[:-1], \"b--\", label=\"Precision\")\n",
        "    plt.plot(self.thresholds, self.recalls[:-1], \"g-\", label=\"Recall\")\n",
        "    plt.xlabel(\"Threshold\")\n",
        "    plt.legend(loc=\"upper left\")\n",
        "    plt.ylim([0, 1])\n",
        "    plt.show()\n",
        "  \n",
        "  def plot_precision_vs_recall( self ):\n",
        "    plt.plot(self.recalls, self.precisions, \"b-\", label=\"Precision_vs_recall\")\n",
        "    plt.ylabel(\"Precision\")\n",
        "    plt.xlabel(\"Recall\")\n",
        "    plt.show()\n",
        "    \n",
        "  def plot_roc_curve(self, label=None):\n",
        "    plt.plot(self.fpr, self.tpr, linewidth=2, label=label)\n",
        "    plt.plot([0, 1], [0, 1], 'k--')\n",
        "    plt.axis([0, 1, 0, 1])\n",
        "    plt.xlabel('False Positive Rate')\n",
        "    plt.ylabel('True Positive Rate')\n",
        "    plt.show()\n",
        "  \n",
        "  \n",
        "  def get_threshold_for_precision(self, target_precision):\n",
        "    target_threshold = 0\n",
        "    for i in range(len(self.precisions)-1):\n",
        "      aux  = self.precisions[i]\n",
        "      aux2 = self.precisions[i+1]\n",
        "      if aux < target_precision and aux2 > target_precision:\n",
        "        target_threshold = self.thresholds[i]\n",
        "        break\n",
        "        \n",
        "    return target_threshold\n",
        "\n",
        "  def get_threshold_for_recall(self, target_recall):\n",
        "    target_threshold = 0\n",
        "    for i in range(len(self.recalls)-1):\n",
        "      aux  = self.recalls[i]\n",
        "      aux2 = self.recalls[i+1]\n",
        "      if aux2 < target_recall and aux > target_recall:\n",
        "        target_threshold = self.thresholds[i+1]      \n",
        "        break\n",
        "    return target_threshold;\n",
        "  \n",
        "\n"
      ],
      "execution_count": 0,
      "outputs": []
    },
    {
      "cell_type": "markdown",
      "metadata": {
        "id": "zhXZyEThlPtk",
        "colab_type": "text"
      },
      "source": [
        "Now let's test the class with a `SGDClassifier`:"
      ]
    },
    {
      "cell_type": "code",
      "metadata": {
        "id": "gtrB-cehlFeu",
        "colab_type": "code",
        "colab": {
          "base_uri": "https://localhost:8080/",
          "height": 1074
        },
        "outputId": "16bf2cdb-a038-49a3-ad43-2be35168c424"
      },
      "source": [
        "meter = ClassifierPerformanceMeter(sgd_clf, X_train, y_train_5);  \n",
        "meter.describe();\n",
        "meter.plot_precision_recall_vs_threshold()\n",
        "meter.plot_precision_vs_recall()\n",
        "meter.plot_roc_curve(\"ROC curve\");\n",
        "\n",
        "target_threshold = meter.get_threshold_for_precision(0.9)\n",
        "\n",
        "y_train_pred = (y_scores > target_threshold)\n",
        "\n",
        "print (\"target threshold = \", target_threshold)\n",
        "print(\"Precision = {:.2f}%\".format( precision_score(y_train_5, y_train_pred) *100) )\n",
        "print(\"Recall = {:.2f}%\".format(recall_score(y_train_5, y_train_pred)*100))\n",
        "\n",
        "\n",
        "target_threshold = meter.get_threshold_for_recall(0.9)\n",
        "y_train_pred = (y_scores > target_threshold)\n",
        "print (\"target threshold = \", target_threshold)\n",
        "print(\"Precision = {:.2f}%\".format( precision_score(y_train_5, y_train_pred) *100) )\n",
        "print(\"Recall = {:.2f}%\".format(recall_score(y_train_5, y_train_pred)*100))\n",
        "\n",
        "\n",
        "\n"
      ],
      "execution_count": 36,
      "outputs": [
        {
          "output_type": "stream",
          "text": [
            "Confusion matrix = \n",
            "[[54122   457]\n",
            " [ 1725  3696]]\n",
            "\n",
            "Precision = 89.00%\n",
            "Recall = 68.18%\n",
            "\n",
            "AUC = 0.957721\n"
          ],
          "name": "stdout"
        },
        {
          "output_type": "display_data",
          "data": {
            "image/png": "[encoded data removed]",
            "text/plain": [
              "<Figure size 432x288 with 1 Axes>"
            ]
          },
          "metadata": {
            "tags": []
          }
        },
        {
          "output_type": "display_data",
          "data": {
            "image/png": "[encoded data removed]",
            "text/plain": [
              "<Figure size 432x288 with 1 Axes>"
            ]
          },
          "metadata": {
            "tags": []
          }
        },
        {
          "output_type": "display_data",
          "data": {
            "image/png": "[encoded data removed]",
            "text/plain": [
              "<Figure size 432x288 with 1 Axes>"
            ]
          },
          "metadata": {
            "tags": []
          }
        },
        {
          "output_type": "stream",
          "text": [
            "target threshold =  265.9526351120646\n",
            "Precision = 90.01%\n",
            "Recall = 66.80%\n",
            "target threshold =  -5782.976627732644\n",
            "Precision = 48.36%\n",
            "Recall = 89.96%\n"
          ],
          "name": "stdout"
        }
      ]
    },
    {
      "cell_type": "markdown",
      "metadata": {
        "id": "SH4ZT5_-v0am",
        "colab_type": "text"
      },
      "source": [
        "Let's test the class with a `RandomForestClassifier`:"
      ]
    },
    {
      "cell_type": "code",
      "metadata": {
        "id": "O8E1qJG-uFPr",
        "colab_type": "code",
        "colab": {
          "base_uri": "https://localhost:8080/",
          "height": 973
        },
        "outputId": "0f127a22-e1d3-41aa-dbd2-a71df81284d4"
      },
      "source": [
        "import warnings\n",
        "warnings.filterwarnings('ignore')\n",
        "\n",
        "from sklearn.ensemble import RandomForestClassifier\n",
        "\n",
        "forest_clf = RandomForestClassifier(random_state=42)\n",
        "\n",
        "meter = ClassifierPerformanceMeter(forest_clf, X_train, y_train_5)\n",
        "meter.describe();\n",
        "meter.plot_precision_recall_vs_threshold()\n",
        "meter.plot_precision_vs_recall()\n",
        "meter.plot_roc_curve(\"ROC curve\");"
      ],
      "execution_count": 37,
      "outputs": [
        {
          "output_type": "stream",
          "text": [
            "Confusion matrix = \n",
            "[[54512    67]\n",
            " [  931  4490]]\n",
            "\n",
            "Precision = 98.53%\n",
            "Recall = 82.83%\n",
            "\n",
            "AUC = 0.993124\n"
          ],
          "name": "stdout"
        },
        {
          "output_type": "display_data",
          "data": {
            "image/png": "[encoded data removed]",
            "text/plain": [
              "<Figure size 432x288 with 1 Axes>"
            ]
          },
          "metadata": {
            "tags": []
          }
        },
        {
          "output_type": "display_data",
          "data": {
            "image/png": "[encoded data removed]",
            "text/plain": [
              "<Figure size 432x288 with 1 Axes>"
            ]
          },
          "metadata": {
            "tags": []
          }
        },
        {
          "output_type": "display_data",
          "data": {
            "image/png": "[encoded data removed]",
            "text/plain": [
              "<Figure size 432x288 with 1 Axes>"
            ]
          },
          "metadata": {
            "tags": []
          }
        }
      ]
    },
    {
      "cell_type": "markdown",
      "metadata": {
        "id": "nowqXc4BzXjL",
        "colab_type": "text"
      },
      "source": [
        "# Multiclass Classification"
      ]
    },
    {
      "cell_type": "markdown",
      "metadata": {
        "id": "2Hmb-14JlE-5",
        "colab_type": "text"
      },
      "source": [
        "Whereas *binary classifiers* distinguish between two classes, *multiclass classifiers* (also called\n",
        "*multinomial classifiers*) can distinguish between more than two classes.\n",
        "\n",
        "Some algorithms (such as *Random Forest* classifiers or naive Bayes classifiers) are capable of handling\n",
        "multiple classes directly. Others (such as *Support Vector Machine* classifiers or Linear classifiers) are\n",
        "strictly binary classifiers. However, there are various strategies that you can use to perform multiclass\n",
        "classification using multiple binary classifiers.\n",
        "\n",
        "For example, one way to create a system that can classify the digit images into 10 classes (from 0 to 9) is\n",
        "to train 10 binary classifiers, one for each digit (a 0-detector, a 1-detector, a 2-detector, and so on). Then\n",
        "when you want to classify an image, you get the decision score from each classifier for that image and you\n",
        "select the class whose classifier outputs the highest score. This is called the **one-versus-all (OvA)**\n",
        "strategy (also called one-versus-the-rest).\n",
        "\n",
        "Another strategy is to train a binary classifier for every pair of digits: one to distinguish 0s and 1s,\n",
        "another to distinguish 0s and 2s, another for 1s and 2s, and so on. This is called the **one-versus-one**\n",
        "(**OvO**) strategy. If there are N classes, you need to train N × (N – 1) / 2 classifiers. For the MNIST\n",
        "problem, this means training 45 binary classifiers! When you want to classify an image, you have to run\n",
        "the image through all 45 classifiers and see which class wins the most duels. The main advantage of OvO\n",
        "is that each classifier only needs to be trained on the part of the training set for the two classes that it must\n",
        "distinguish.\n",
        "\n",
        "Some algorithms (such as *Support Vector Machine* classifiers) scale poorly with the size of the training\n",
        "set, so for these algorithms OvO is preferred since it is faster to train many classifiers on small training\n",
        "sets than training few classifiers on large training sets. For most binary classification algorithms,\n",
        "however, **OvA** is preferred.\n",
        "\n",
        "Scikit-Learn detects when we try to use a binary classification algorithm for a multiclass classification\n",
        "task, and it **automatically runs OvA** (except for SVM classifiers for which it uses OvO). Let’s try this with the `SGDClassifier`:"
      ]
    },
    {
      "cell_type": "code",
      "metadata": {
        "id": "sjwctlUu1sGL",
        "colab_type": "code",
        "colab": {
          "base_uri": "https://localhost:8080/",
          "height": 34
        },
        "outputId": "8e77b544-93e8-4e04-b6c2-857fecb977c6"
      },
      "source": [
        "sgd_clf.fit(X_train, y_train) # y_train, not y_train_5\n",
        "sgd_clf.predict([five_digit])"
      ],
      "execution_count": 38,
      "outputs": [
        {
          "output_type": "execute_result",
          "data": {
            "text/plain": [
              "array([5], dtype=int8)"
            ]
          },
          "metadata": {
            "tags": []
          },
          "execution_count": 38
        }
      ]
    },
    {
      "cell_type": "markdown",
      "metadata": {
        "id": "sc6XPjCj2g5p",
        "colab_type": "text"
      },
      "source": [
        "That was easy! This code trains the `SGDClassifier` on the training set using the original target classes\n",
        "from 0 to 9 (`y_train`, i.e. it runs **OvA automatically**), instead of the 5-versus-all target classes (`y_train_5`). Then it makes a prediction\n",
        "(a correct one in this case). Under the hood, Scikit-Learn actually trained 10 binary classifiers, got their\n",
        "decision scores for the image, and selected the class with the highest score.\n",
        "\n",
        "To see that this is indeed the case, you can call the `decision_function()` method. Instead of returning\n",
        "just one score per instance, it now returns 10 scores, one per class, having the 6th element in the array (0,1,2,3,4,5) the only positive score:"
      ]
    },
    {
      "cell_type": "code",
      "metadata": {
        "id": "c6_S6uAn3ICt",
        "colab_type": "code",
        "colab": {
          "base_uri": "https://localhost:8080/",
          "height": 84
        },
        "outputId": "af32ae0a-433b-4450-c1bf-90350977415f"
      },
      "source": [
        "digit_scores = sgd_clf.decision_function([five_digit])\n",
        "digit_scores"
      ],
      "execution_count": 39,
      "outputs": [
        {
          "output_type": "execute_result",
          "data": {
            "text/plain": [
              "array([[ -8204.47519778, -19206.28224706,  -5702.10113982,\n",
              "         -4666.3653033 , -15827.7809826 ,   1782.52380291,\n",
              "        -39807.3747045 , -18945.8333413 , -14650.34384565,\n",
              "        -16166.06981109]])"
            ]
          },
          "metadata": {
            "tags": []
          },
          "execution_count": 39
        }
      ]
    },
    {
      "cell_type": "markdown",
      "metadata": {
        "id": "TZRPWIWi5ba3",
        "colab_type": "text"
      },
      "source": [
        "To get the highest score, just do:"
      ]
    },
    {
      "cell_type": "code",
      "metadata": {
        "id": "F2zNafVA5gjh",
        "colab_type": "code",
        "colab": {
          "base_uri": "https://localhost:8080/",
          "height": 50
        },
        "outputId": "5ef0fc2c-6c6d-450e-b9ac-24ebee95d01f"
      },
      "source": [
        "maxId = np.argmax(digit_scores)\n",
        "print(\"The largest value has the index \", maxId )\n",
        "print(\"which corresponds to the digit '{0}'\".format(sgd_clf.classes_[ maxId ]))"
      ],
      "execution_count": 40,
      "outputs": [
        {
          "output_type": "stream",
          "text": [
            "The largest value has the index  5\n",
            "which corresponds to the digit '5'\n"
          ],
          "name": "stdout"
        }
      ]
    },
    {
      "cell_type": "markdown",
      "metadata": {
        "id": "j7w8Abpk68wh",
        "colab_type": "text"
      },
      "source": [
        "Training a `RandomForestClassifier` is just as easy:"
      ]
    },
    {
      "cell_type": "code",
      "metadata": {
        "id": "3344VGri6_C5",
        "colab_type": "code",
        "colab": {
          "base_uri": "https://localhost:8080/",
          "height": 34
        },
        "outputId": "8a74397e-61f3-49e4-f8f1-e473bd3f5cd2"
      },
      "source": [
        "forest_clf.fit(X_train, y_train)\n",
        "forest_clf.predict([five_digit])"
      ],
      "execution_count": 41,
      "outputs": [
        {
          "output_type": "execute_result",
          "data": {
            "text/plain": [
              "array([5], dtype=int8)"
            ]
          },
          "metadata": {
            "tags": []
          },
          "execution_count": 41
        }
      ]
    },
    {
      "cell_type": "markdown",
      "metadata": {
        "id": "T6TIv2MR7Gyn",
        "colab_type": "text"
      },
      "source": [
        "This time Scikit-Learn did not have to run OvA or OvO because `Random Forest` classifiers can directly\n",
        "classify instances into multiple classes. You can call `predict_proba()` to get the list of probabilities that\n",
        "the classifier assigned to each instance for each class:"
      ]
    },
    {
      "cell_type": "code",
      "metadata": {
        "id": "W3w75Aus7OQ1",
        "colab_type": "code",
        "colab": {
          "base_uri": "https://localhost:8080/",
          "height": 67
        },
        "outputId": "4891c34d-00c0-419b-fe8c-7513286a5fbd"
      },
      "source": [
        "digit_probs = forest_clf.predict_proba([five_digit]) \n",
        "print(digit_probs)\n",
        "\n",
        "maxId = np.argmax(digit_probs)\n",
        "print(\"The largest probability value has the index \", maxId )\n",
        "print(\"which corresponds to the digit '{0}'\".format(forest_clf.classes_[ maxId ]))\n"
      ],
      "execution_count": 42,
      "outputs": [
        {
          "output_type": "stream",
          "text": [
            "[[0.1 0.  0.  0.1 0.  0.8 0.  0.  0.  0. ]]\n",
            "The largest probability value has the index  5\n",
            "which corresponds to the digit '5'\n"
          ],
          "name": "stdout"
        }
      ]
    },
    {
      "cell_type": "markdown",
      "metadata": {
        "id": "Pk2lT_g08Kcm",
        "colab_type": "text"
      },
      "source": [
        "Now of course we want to evaluate these classifiers. As usual, we will use cross-validation, so let’s\n",
        "evaluate the `SGDClassifier`’s accuracy using the `cross_val_score()` function:"
      ]
    },
    {
      "cell_type": "code",
      "metadata": {
        "id": "NczstJUc8R5h",
        "colab_type": "code",
        "colab": {
          "base_uri": "https://localhost:8080/",
          "height": 34
        },
        "outputId": "a220328b-0dd2-4f61-c9d8-3f5afdff1717"
      },
      "source": [
        "cross_val_score(sgd_clf, X_train, y_train, cv=3, scoring=\"accuracy\")"
      ],
      "execution_count": 43,
      "outputs": [
        {
          "output_type": "execute_result",
          "data": {
            "text/plain": [
              "array([0.86762647, 0.88469423, 0.8306746 ])"
            ]
          },
          "metadata": {
            "tags": []
          },
          "execution_count": 43
        }
      ]
    },
    {
      "cell_type": "markdown",
      "metadata": {
        "id": "0PulvNZG8Zmi",
        "colab_type": "text"
      },
      "source": [
        "It gets over 83% on all test folds. If we used a random classifier, we would get 10% accuracy, so this is\n",
        "not such a bad score, but we can still do much better. For example, simply scaling the inputs increases accuracy above 90%:"
      ]
    },
    {
      "cell_type": "code",
      "metadata": {
        "id": "YI-KFhav8fO4",
        "colab_type": "code",
        "colab": {
          "base_uri": "https://localhost:8080/",
          "height": 34
        },
        "outputId": "600fe593-838e-4418-dff5-8757dc54f626"
      },
      "source": [
        "from sklearn.preprocessing import StandardScaler\n",
        "\n",
        "scaler = StandardScaler()\n",
        "X_train_scaled = scaler.fit_transform(X_train.astype(np.float64))\n",
        "cross_val_score(sgd_clf, X_train_scaled, y_train, cv=3, scoring=\"accuracy\")"
      ],
      "execution_count": 44,
      "outputs": [
        {
          "output_type": "execute_result",
          "data": {
            "text/plain": [
              "array([0.89982004, 0.90534527, 0.90153523])"
            ]
          },
          "metadata": {
            "tags": []
          },
          "execution_count": 44
        }
      ]
    },
    {
      "cell_type": "markdown",
      "metadata": {
        "id": "cMtHIqVk-fXK",
        "colab_type": "text"
      },
      "source": [
        "# Error Analysis with a grayscale Confusion Matrix"
      ]
    },
    {
      "cell_type": "markdown",
      "metadata": {
        "id": "ZBtDkyTz-r5K",
        "colab_type": "text"
      },
      "source": [
        "Of course, if this were a real project, we would follow the steps in the Machine Learning project\n",
        "checklist:\n",
        "\n",
        "1.   exploring data preparation options\n",
        "2.   trying out multiple models\n",
        "3.   shortlisting the best ones\n",
        "4.   fine-tuning their hyperparameters using `GridSearchCV` \n",
        "5.   and automating as much as possible. \n",
        "\n",
        "Here, we will assume that we have found a promising model\n",
        "and we want to find ways to improve it. \n",
        "One way to do this is to analyze the types of errors it makes.\n",
        "First, we can look at the confusion matrix. We need to make predictions using the\n",
        "`cross_val_predict()` function, then call the `confusion_matrix()` function, just like you did earlier:"
      ]
    },
    {
      "cell_type": "code",
      "metadata": {
        "id": "KhXKa19RECdC",
        "colab_type": "code",
        "colab": {
          "base_uri": "https://localhost:8080/",
          "height": 185
        },
        "outputId": "36721781-8fc0-4337-d6c3-97684319c54d"
      },
      "source": [
        "y_train_pred = cross_val_predict(sgd_clf, X_train_scaled, y_train, cv=3)\n",
        "conf_mx = confusion_matrix(y_train, y_train_pred)\n",
        "conf_mx"
      ],
      "execution_count": 45,
      "outputs": [
        {
          "output_type": "execute_result",
          "data": {
            "text/plain": [
              "array([[5597,    0,   15,    9,   10,   43,   36,    5,  207,    1],\n",
              "       [   1, 6419,   41,   22,    3,   45,    4,    8,  186,   13],\n",
              "       [  23,   25, 5267,   91,   71,   27,   64,   45,  334,   11],\n",
              "       [  30,   20,  113, 5277,    2,  202,   26,   45,  349,   67],\n",
              "       [  10,   18,   39,   11, 5254,    9,   39,   21,  280,  161],\n",
              "       [  30,   20,   26,  158,   53, 4499,   75,   21,  476,   63],\n",
              "       [  28,   18,   43,    5,   37,   96, 5552,    7,  132,    0],\n",
              "       [  20,   10,   55,   27,   48,   11,    4, 5721,  160,  209],\n",
              "       [  19,   71,   39,  111,    1,  127,   28,   10, 5398,   47],\n",
              "       [  24,   23,   29,   60,  126,   34,    1,  188,  314, 5150]])"
            ]
          },
          "metadata": {
            "tags": []
          },
          "execution_count": 45
        }
      ]
    },
    {
      "cell_type": "markdown",
      "metadata": {
        "id": "LKr8MPC2ctG9",
        "colab_type": "text"
      },
      "source": [
        "Wow! That’s a lot of numbers. It’s often more convenient to look at an image representation of the confusion\n",
        "matrix, using Matplotlib’s `matshow()` function:"
      ]
    },
    {
      "cell_type": "code",
      "metadata": {
        "id": "mX5H5JkaFo7x",
        "colab_type": "code",
        "colab": {
          "base_uri": "https://localhost:8080/",
          "height": 278
        },
        "outputId": "0866b559-1482-414e-d4c5-2a1bd18888ee"
      },
      "source": [
        "plt.matshow(conf_mx, cmap=plt.cm.gray)\n",
        "plt.show()"
      ],
      "execution_count": 47,
      "outputs": [
        {
          "output_type": "display_data",
          "data": {
            "image/png": "[encoded data removed]",
            "text/plain": [
              "<Figure size 288x288 with 1 Axes>"
            ]
          },
          "metadata": {
            "tags": []
          }
        }
      ]
    },
    {
      "cell_type": "markdown",
      "metadata": {
        "id": "nQ8X-c0Ic-Pd",
        "colab_type": "text"
      },
      "source": [
        "This confusion matrix looks fairly good, since most images are on the main diagonal, which means that\n",
        "most were classified correctly. The 5s look slightly darker than the other digits, which could mean that\n",
        "there are fewer images of 5s in the dataset or that the classifier does not perform as well on 5s as on other\n",
        "digits. In fact, you can verify that both are the case.\n",
        "Let’s focus the plot on the errors. First, you need to divide each value in the confusion matrix by the\n",
        "number of images in the corresponding class, so you can compare error rates instead of absolute number\n",
        "of errors (which would make abundant classes look unfairly bad):"
      ]
    },
    {
      "cell_type": "code",
      "metadata": {
        "id": "MBRm2bfvdI8G",
        "colab_type": "code",
        "colab": {}
      },
      "source": [
        "row_sums = conf_mx.sum(axis=1, keepdims=True)\n",
        "norm_conf_mx = conf_mx / row_sums"
      ],
      "execution_count": 0,
      "outputs": []
    },
    {
      "cell_type": "markdown",
      "metadata": {
        "id": "aMnsc4l5dO54",
        "colab_type": "text"
      },
      "source": [
        "Now let’s fill the diagonal with zeros to keep only the errors, and let’s plot the result:"
      ]
    },
    {
      "cell_type": "code",
      "metadata": {
        "id": "QI4c72ejdP-9",
        "colab_type": "code",
        "colab": {
          "base_uri": "https://localhost:8080/",
          "height": 278
        },
        "outputId": "f588a9f9-d80c-4068-be27-77e42d7d6977"
      },
      "source": [
        "np.fill_diagonal(norm_conf_mx, 0)\n",
        "plt.matshow(norm_conf_mx, cmap=plt.cm.gray)\n",
        "plt.show()"
      ],
      "execution_count": 50,
      "outputs": [
        {
          "output_type": "display_data",
          "data": {
            "image/png": "[encoded data removed]",
            "text/plain": [
              "<Figure size 288x288 with 1 Axes>"
            ]
          },
          "metadata": {
            "tags": []
          }
        }
      ]
    },
    {
      "cell_type": "markdown",
      "metadata": {
        "id": "tRDKpjaLdWQo",
        "colab_type": "text"
      },
      "source": [
        "Now we can clearly see the kinds of errors the classifier makes. **Remember that rows represent actual classes, while columns represent predicted classes**. The columns for classes 8 and 9 are quite bright,\n",
        "which tells you that many images get misclassified as 8s or 9s. Similarly, the rows for classes 8 and 9 are\n",
        "also quite bright, telling you that 8s and 9s are often confused with other digits. Conversely, some rows\n",
        "are pretty dark, such as row 1: this means that most 1s are classified correctly (a few are confused with\n",
        "8s, but that’s about it). Notice that the errors are not perfectly symmetrical; for example, there are more 5s\n",
        "misclassified as 8s than the reverse.\n",
        "\n",
        "Analyzing the confusion matrix can often give you insights on ways to improve your classifier. Looking at\n",
        "this plot, it seems that your efforts should be spent on improving classification of 8s and 9s, as well as\n",
        "fixing the specific 3/5 confusion. For example, you could try to gather more training data for these digits.\n",
        "Or you could engineer new features that would help the classifier — for example, writing an algorithm to\n",
        "count the number of closed loops (e.g., 8 has two, 6 has one, 5 has none). Or you could preprocess the\n",
        "images (e.g., using Scikit-Image, Pillow, or OpenCV) to make some patterns stand out more, such as\n",
        "closed loops.\n",
        "\n",
        "Analyzing individual errors can also be a good way to gain insights on what your classifier is doing and\n",
        "why it is failing, but it is more difficult and time-consuming. For example, let’s plot examples of 3s and 5s\n",
        "(the `plot_digits()` function just uses Matplotlib’s imshow() function):"
      ]
    },
    {
      "cell_type": "code",
      "metadata": {
        "id": "TBZurlF5fdLr",
        "colab_type": "code",
        "colab": {}
      },
      "source": [
        "def plot_digit(data):\n",
        "  image = data.reshape(28, 28)\n",
        "  plt.imshow(image, cmap = mpl.cm.binary,\n",
        "               interpolation=\"nearest\")\n",
        "  plt.axis(\"off\")\n",
        "  \n",
        "  \n",
        "def plot_digits(instances, images_per_row=10, **options):\n",
        "    size = 28\n",
        "    images_per_row = min(len(instances), images_per_row)\n",
        "    images = [instance.reshape(size,size) for instance in instances]\n",
        "    n_rows = (len(instances) - 1) // images_per_row + 1\n",
        "    row_images = []\n",
        "    n_empty = n_rows * images_per_row - len(instances)\n",
        "    images.append(np.zeros((size, size * n_empty)))\n",
        "    for row in range(n_rows):\n",
        "        rimages = images[row * images_per_row : (row + 1) * images_per_row]\n",
        "        row_images.append(np.concatenate(rimages, axis=1))\n",
        "    image = np.concatenate(row_images, axis=0)\n",
        "    plt.imshow(image, cmap = mpl.cm.binary, **options)\n",
        "    plt.axis(\"off\")"
      ],
      "execution_count": 0,
      "outputs": []
    },
    {
      "cell_type": "code",
      "metadata": {
        "id": "EmgLuwIKeBpm",
        "colab_type": "code",
        "colab": {
          "base_uri": "https://localhost:8080/",
          "height": 490
        },
        "outputId": "b56eac19-913b-40cc-87be-f7691db5e883"
      },
      "source": [
        "cl_a, cl_b = 3, 5\n",
        "X_aa = X_train[(y_train == cl_a) & (y_train_pred == cl_a)]\n",
        "X_ab = X_train[(y_train == cl_a) & (y_train_pred == cl_b)]\n",
        "X_ba = X_train[(y_train == cl_b) & (y_train_pred == cl_a)]\n",
        "X_bb = X_train[(y_train == cl_b) & (y_train_pred == cl_b)]\n",
        "plt.figure(figsize=(8,8))\n",
        "plt.subplot(221); plot_digits(X_aa[:25], images_per_row=5)\n",
        "plt.subplot(222); plot_digits(X_ab[:25], images_per_row=5)\n",
        "plt.subplot(223); plot_digits(X_ba[:25], images_per_row=5)\n",
        "plt.subplot(224); plot_digits(X_bb[:25], images_per_row=5)\n",
        "plt.show()"
      ],
      "execution_count": 54,
      "outputs": [
        {
          "output_type": "display_data",
          "data": {
            "image/png": "[encoded data removed]",
            "text/plain": [
              "<Figure size 576x576 with 4 Axes>"
            ]
          },
          "metadata": {
            "tags": []
          }
        }
      ]
    },
    {
      "cell_type": "markdown",
      "metadata": {
        "id": "9m133NbI3vWg",
        "colab_type": "text"
      },
      "source": [
        "The two 5×5 blocks on the left show digits classified as 3s, and the two 5×5 blocks on the right show\n",
        "images classified as 5s. Some of the digits that the classifier gets wrong (i.e., in the bottom-left and topright\n",
        "blocks) are so badly written that even a human would have trouble classifying them (e.g., the 5 on\n",
        "the 8th row and 1st column truly looks like a 3). \n",
        "\n",
        "However, most misclassified images seem like obvious\n",
        "errors to us, and it’s hard to understand why the classifier made the mistakes it did.3 The reason is that we\n",
        "used a simple `SGDClassifier`, which is a **linear model**. All it does is assign a weight per class to each\n",
        "pixel, and when it sees a new image it just sums up the weighted pixel intensities to get a score for each\n",
        "class. So since 3s and 5s differ only by a few pixels, this model will easily confuse them.\n",
        "\n",
        "The main difference between 3s and 5s is the position of the small line that joins the top line to the bottom\n",
        "arc. If you draw a 3 with the junction slightly shifted to the left, the classifier might classify it as a 5, and\n",
        "vice versa. In other words, this classifier is quite sensitive to image shifting and rotation. So one way to\n",
        "reduce the 3/5 confusion would be to preprocess the images to ensure that they are well centered and not\n",
        "too rotated. This will probably help reduce other errors as well."
      ]
    },
    {
      "cell_type": "markdown",
      "metadata": {
        "id": "Rb31MDHuhwbs",
        "colab_type": "text"
      },
      "source": [
        "# Multilabel Classification"
      ]
    },
    {
      "cell_type": "markdown",
      "metadata": {
        "id": "7SIdrRLUhz1y",
        "colab_type": "text"
      },
      "source": [
        "Until now each instance has always been assigned to just one class. In some cases you may want your\n",
        "classifier to output **multiple classes** for each instance. For example, consider a face-recognition\n",
        "classifier: what should it do if it recognizes several people on the same picture? Of course it should\n",
        "attach one label per person it recognizes. Say the classifier has been trained to recognize three faces,\n",
        "Alice, Bob, and Charlie; then when it is shown a picture of Alice and Charlie, it should output [1, 0, 1]\n",
        "(meaning “Alice yes, Bob no, Charlie yes”). Such a classification system that outputs multiple binary\n",
        "labels is called a multilabel classification system.\n",
        "\n",
        "We won’t go into face recognition just yet, but let’s look at a simpler example, just for illustration\n",
        "purposes:"
      ]
    },
    {
      "cell_type": "code",
      "metadata": {
        "id": "7mVoFvbmh_r8",
        "colab_type": "code",
        "colab": {
          "base_uri": "https://localhost:8080/",
          "height": 67
        },
        "outputId": "d8044c92-6784-4ea3-9bff-c375dcac55d9"
      },
      "source": [
        "from sklearn.neighbors import KNeighborsClassifier\n",
        "y_train_large = (y_train >= 7)\n",
        "y_train_odd = (y_train % 2 == 1)\n",
        "y_multilabel = np.c_[y_train_large, y_train_odd]\n",
        "knn_clf = KNeighborsClassifier()\n",
        "knn_clf.fit(X_train, y_multilabel)"
      ],
      "execution_count": 55,
      "outputs": [
        {
          "output_type": "execute_result",
          "data": {
            "text/plain": [
              "KNeighborsClassifier(algorithm='auto', leaf_size=30, metric='minkowski',\n",
              "                     metric_params=None, n_jobs=None, n_neighbors=5, p=2,\n",
              "                     weights='uniform')"
            ]
          },
          "metadata": {
            "tags": []
          },
          "execution_count": 55
        }
      ]
    },
    {
      "cell_type": "markdown",
      "metadata": {
        "id": "2dAS6hPqiKcA",
        "colab_type": "text"
      },
      "source": [
        "This code creates a y_multilabel array containing two target labels for each digit image: the first\n",
        "indicates whether or not the digit is large (7, 8, or 9) and the second indicates whether or not it is odd.\n",
        "The next lines create a **`KNeighborsClassifier`** instance (which supports multilabel classification, but\n",
        "not all classifiers do) and we train it using the multiple targets array. Now you can make a prediction, and\n",
        "notice that it outputs two labels."
      ]
    },
    {
      "cell_type": "code",
      "metadata": {
        "id": "o398YEKGiXPW",
        "colab_type": "code",
        "colab": {
          "base_uri": "https://localhost:8080/",
          "height": 34
        },
        "outputId": "821f7816-2116-4230-ab83-8083f20ceb3c"
      },
      "source": [
        "knn_clf.predict([five_digit])"
      ],
      "execution_count": 56,
      "outputs": [
        {
          "output_type": "execute_result",
          "data": {
            "text/plain": [
              "array([[False,  True]])"
            ]
          },
          "metadata": {
            "tags": []
          },
          "execution_count": 56
        }
      ]
    },
    {
      "cell_type": "markdown",
      "metadata": {
        "id": "x_0z3qcMicRH",
        "colab_type": "text"
      },
      "source": [
        "Which means it is not a large number (7, 8 or 9) and that is an odd number. We can now evaluate this classifier:\n",
        "\n",
        "There are many ways to evaluate a multilabel classifier, and selecting the right metric really depends on our project. For example, one approach is to measure the F1 score for each individual label (or any other\n",
        "binary classifier metric discussed earlier), then simply compute the average score.\n",
        "\n",
        "This code computes the average F1 score across all labels:"
      ]
    },
    {
      "cell_type": "code",
      "metadata": {
        "id": "52RdZIYNmkph",
        "colab_type": "code",
        "colab": {}
      },
      "source": [
        "y_train_knn_pred = cross_val_predict(knn_clf, X_train, y_train, cv=3)\n",
        "f1_score(y_train, y_train_knn_pred, average=\"macro\")"
      ],
      "execution_count": 0,
      "outputs": []
    },
    {
      "cell_type": "markdown",
      "metadata": {
        "id": "n48G8KQRjpwN",
        "colab_type": "text"
      },
      "source": [
        "# Multilabel Classification to clean up noise in images"
      ]
    },
    {
      "cell_type": "markdown",
      "metadata": {
        "id": "LcpYnKusj3D5",
        "colab_type": "text"
      },
      "source": [
        "The last type of classification task we are going to discuss here is called multioutput-multiclass\n",
        "classification (or simply multioutput classification). It is simply a generalization of multilabel\n",
        "classification where each label can be multiclass (i.e., it can have more than two possible values).\n",
        "To illustrate this, let’s build a system that removes noise from images. It will take as input a noisy digit\n",
        "image, and it will (hopefully) output a clean digit image, represented as an array of pixel intensities, just\n",
        "like the MNIST images. \n",
        "\n",
        "Notice that the classifier’s output is multilabel (one label per pixel) and each\n",
        "label can have multiple values (pixel intensity ranges from 0 to 255). It is thus an example of a multioutput\n",
        "classification system.\n",
        "\n",
        "\n",
        "Let’s start by creating the training and test sets by taking the MNIST images and adding noise to their pixel\n",
        "intensities using NumPy’s `randint()` function. The target images will be the original images:\n"
      ]
    },
    {
      "cell_type": "code",
      "metadata": {
        "id": "upF6vjPEkKgx",
        "colab_type": "code",
        "colab": {}
      },
      "source": [
        "noise = np.random.randint(0, 100, (len(X_train), 784))\n",
        "X_train_mod = X_train + noise\n",
        "noise = np.random.randint(0, 100, (len(X_test), 784))\n",
        "X_test_mod = X_test + noise\n",
        "y_train_mod = X_train\n",
        "y_test_mod = X_test"
      ],
      "execution_count": 0,
      "outputs": []
    },
    {
      "cell_type": "markdown",
      "metadata": {
        "id": "L0neEv8Bkx0l",
        "colab_type": "text"
      },
      "source": [
        "Let’s take a peek at an image from the test set (yes, we’re snooping on the test data, so you should be frowning right now):"
      ]
    },
    {
      "cell_type": "code",
      "metadata": {
        "id": "a1Wr5-1Bmo0p",
        "colab_type": "code",
        "colab": {
          "base_uri": "https://localhost:8080/",
          "height": 205
        },
        "outputId": "b9bba8c1-5a58-4521-95f2-cea1bb3bea18"
      },
      "source": [
        "some_index = 5500\n",
        "plt.subplot(121); plot_digit(X_test_mod[some_index])\n",
        "plt.subplot(122); plot_digit(y_test_mod[some_index])\n",
        "#save_fig(\"noisy_digit_example_plot\")\n",
        "plt.show()"
      ],
      "execution_count": 60,
      "outputs": [
        {
          "output_type": "display_data",
          "data": {
            "image/png": "[encoded data removed]",
            "text/plain": [
              "<Figure size 432x288 with 2 Axes>"
            ]
          },
          "metadata": {
            "tags": []
          }
        }
      ]
    },
    {
      "cell_type": "markdown",
      "metadata": {
        "id": "vQdYjJ2nqdA9",
        "colab_type": "text"
      },
      "source": [
        "On the left is the noisy input image, and on the right is the clean target image. Now let’s train the classifier and make it clean this image:"
      ]
    },
    {
      "cell_type": "code",
      "metadata": {
        "id": "dSil-I9PqgoC",
        "colab_type": "code",
        "colab": {
          "base_uri": "https://localhost:8080/",
          "height": 269
        },
        "outputId": "201da279-8261-4ed3-b215-88a8d5097bb2"
      },
      "source": [
        "knn_clf.fit(X_train_mod, y_train_mod)\n",
        "clean_digit = knn_clf.predict([X_test_mod[some_index]])\n",
        "plot_digit(clean_digit)\n",
        "#save_fig(\"cleaned_digit_example_plot\")"
      ],
      "execution_count": 62,
      "outputs": [
        {
          "output_type": "display_data",
          "data": {
            "image/png": "[encoded data removed]",
            "text/plain": [
              "<Figure size 432x288 with 1 Axes>"
            ]
          },
          "metadata": {
            "tags": []
          }
        }
      ]
    },
    {
      "cell_type": "markdown",
      "metadata": {
        "id": "Ti1BX-rklMZy",
        "colab_type": "text"
      },
      "source": [
        "Looks close enough to the target! This concludes our tour of classification. Hopefully we should now be able to\n",
        "know how to select good metrics for classification tasks, pick the appropriate precision/recall tradeoff, compare classifiers, and more generally build good classification systems for a variety of tasks."
      ]
    }
  ]
}